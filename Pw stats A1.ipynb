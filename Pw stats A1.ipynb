{
 "cells": [
  {
   "cell_type": "code",
   "execution_count": null,
   "id": "9bd97e65-7313-4f27-ac01-552a30c16877",
   "metadata": {},
   "outputs": [],
   "source": [
    "#1.Statistics is the science of collecting, organizing and analysing the data\n",
    "\n"
   ]
  },
  {
   "cell_type": "code",
   "execution_count": 2,
   "id": "b90b2b97-a647-44d2-bf28-3af67a199302",
   "metadata": {},
   "outputs": [],
   "source": [
    "#2. There are two types of statistics-\n",
    "#  Descriptive statistics - In descriptive statistics we organize and summarise the data. Example - to analysis marks obtained by students in a class\n",
    "#  Infrential statistics - It consists of using data you have measured to form conclusion. Example - to conclude who is the topper of the class \n"
   ]
  },
  {
   "cell_type": "code",
   "execution_count": 5,
   "id": "369add25-61a6-4ddb-a330-a015a4520841",
   "metadata": {},
   "outputs": [],
   "source": [
    "#3. There are two types of data \n",
    "# catagorical(qualitative) data \n",
    "#example- gender, colour of eyes\n",
    "\n",
    "#Numerical(quantitative) data\n",
    "#example- height, weight \n",
    "\n",
    "#Quantitative data is numbers-based, countable, or measurable. Qualitative data is interpretation-based, descriptive, and relating to language\n"
   ]
  },
  {
   "cell_type": "code",
   "execution_count": 7,
   "id": "adaa4881-22f8-40ce-aae2-4e962d31a58b",
   "metadata": {},
   "outputs": [],
   "source": [
    "#4 \n",
    "#1.qualitative data\n",
    "#2.qualitative data\n",
    "#3.quantitative data\n",
    "#4.quantitative data\n",
    "\n"
   ]
  },
  {
   "cell_type": "code",
   "execution_count": 10,
   "id": "03988e99-93c1-49a6-bfbb-42df70e7b3e7",
   "metadata": {},
   "outputs": [],
   "source": [
    "#5.There are four scale of measurement of data\n",
    "\n",
    "#1. Nominal scale data\n",
    "# - It is a qualitative variable \n",
    "# - fixed set of values\n",
    "# - order doesn't matter\n",
    "# - example gender, colours \n",
    "\n",
    "#2. ordinal scale data\n",
    "# - It is a qualitative variable \n",
    "# - order and ranking matters \n",
    "# - difference can't be measured \n",
    "# - example - grades , rating in app\n",
    "\n",
    "#3. Interval scale data\n",
    "# - It is a quantitative variable\n",
    "# - order and ranking matters\n",
    "# - difference can be measured but ratio can't be measured \n",
    "# - does not have zero starting value\n",
    "#example - temperature \n",
    "\n",
    "#4. ratio scale data\n",
    "# - It is a quantitative variable\n",
    "# - order and ranking matters\n",
    "# - difference can be measured but ratio canalso be measured \n",
    "# - have zero starting value\n",
    "# example - marks \n"
   ]
  },
  {
   "cell_type": "code",
   "execution_count": null,
   "id": "fedf81f1-0ad0-4544-a75a-ec41e31e0503",
   "metadata": {},
   "outputs": [],
   "source": [
    "#6.It is important to understand because in data collection there are different variety of data and for there variety we should know how we can measure these data and how to perform and retrive information from tese data"
   ]
  },
  {
   "cell_type": "code",
   "execution_count": null,
   "id": "6e664c2a-a1f2-4f0f-8ccf-78c257c041ea",
   "metadata": {},
   "outputs": [],
   "source": [
    "#7. In nominal data there is no ranking and order doesn't matter butin ordinal data type order matters and we also give rank ."
   ]
  },
  {
   "cell_type": "code",
   "execution_count": null,
   "id": "73068737-56fb-4fb6-aa67-754a21dd96b2",
   "metadata": {},
   "outputs": [],
   "source": [
    "#8. Bar chart can be used to display data in terms of range."
   ]
  },
  {
   "cell_type": "code",
   "execution_count": null,
   "id": "79d5ba89-6a3d-4a2e-8cfc-518e7c53729e",
   "metadata": {},
   "outputs": [],
   "source": [
    "#9. In descriptive statistics we only study the data and summarize and organize it but in infrential statistics we made conclusion from that data.\n",
    "# example of descriptive statistics - An online opinion poll was conducted by a film reviewing website to rank Indian films from the 2000s. Among the 1000 films in the list, Bhaag Milkha Bhaag received the maximum number of votes followed by 3 Idiots and Swades respectively\n",
    "# example of infrential statistics - A construction company wants to start a house construction business in a city. Since there is a large number of houses, the company collects a sample of houses from the city and uses the properties of the sample to study house prices in the city"
   ]
  },
  {
   "cell_type": "code",
   "execution_count": null,
   "id": "f91aa5fd-c6a0-4465-b7de-de0994f57d91",
   "metadata": {},
   "outputs": [],
   "source": [
    "#10 The three measures of central tendency are mean, median, mode. mean tells about the average , mode tells about the highest frequency and median tells about the "
   ]
  },
  {
   "cell_type": "code",
   "execution_count": null,
   "id": "ced2caa7-471c-4a76-8a4f-83e7cfb6b772",
   "metadata": {},
   "outputs": [],
   "source": []
  }
 ],
 "metadata": {
  "kernelspec": {
   "display_name": "Python 3 (ipykernel)",
   "language": "python",
   "name": "python3"
  },
  "language_info": {
   "codemirror_mode": {
    "name": "ipython",
    "version": 3
   },
   "file_extension": ".py",
   "mimetype": "text/x-python",
   "name": "python",
   "nbconvert_exporter": "python",
   "pygments_lexer": "ipython3",
   "version": "3.10.8"
  }
 },
 "nbformat": 4,
 "nbformat_minor": 5
}
